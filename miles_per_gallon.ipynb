{
 "cells": [
  {
   "cell_type": "code",
   "execution_count": null,
   "metadata": {},
   "outputs": [],
   "source": [
    "#Miles per Gallon Program\n",
    "\n",
    "\n",
    "\n",
    "# display a welcome message\n",
    "print(\"The Miles Per Gallon application\")\n",
    "print()\n",
    "\n",
    "choice=\"y\"\n",
    "while choice.lower()==\"y\":\n",
    "# get input from the user\n",
    "\n",
    "    miles_driven = float(input(\"Enter miles driven: \"))\n",
    "    gallons_used = float(input(\"Enter gallons of gas used:  \"))\n",
    "    cost_gallon= float(input(\"Enter cost per gallon: \"))\n",
    "    print()\n",
    "\n",
    "    if miles_driven <= 0:\n",
    "        print(\"Miles driven must be greater than zero. Please try again.\")\n",
    "\n",
    "    elif gallons_used <= 0:\n",
    "        print(\"Gallons used must be greater than zero. Please try again.\")\n",
    "\n",
    "    else:\n",
    "        # calculate and display miles per gallon\n",
    "        mpg = round((miles_driven / gallons_used), 2)\n",
    "        print(\"Miles Per Gallon: \", mpg)\n",
    "\n",
    "        #calculate and display total cost of gas\n",
    "        tc_gas=round((cost_gallon*gallons_used),1)\n",
    "        print(\"Total Gas Cost:\", tc_gas)\n",
    "\n",
    "        #calculate and print Cost per mile\n",
    "        cost_mile=round((tc_gas/miles_driven), 1)\n",
    "        print(\"Cost Per Mile: \", cost_mile)\n",
    "        \n",
    "\n",
    "    #ask to continue\n",
    "    print()\n",
    "    choice=input(\"Get entries for another trip (y/n)?\")"
   ]
  }
 ],
 "metadata": {
  "language_info": {
   "name": "python"
  }
 },
 "nbformat": 4,
 "nbformat_minor": 2
}
